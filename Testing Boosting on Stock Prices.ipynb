{
 "cells": [
  {
   "cell_type": "markdown",
   "id": "7ca28d7f",
   "metadata": {},
   "source": [
    "# Testing Boosting on Stock Prices"
   ]
  },
  {
   "cell_type": "markdown",
   "id": "1d91ae1a",
   "metadata": {},
   "source": [
    "### Testing Boosting on Stock Prices"
   ]
  },
  {
   "cell_type": "markdown",
   "id": "e1cbd7b4",
   "metadata": {},
   "source": [
    "#### Import Required Libraries"
   ]
  },
  {
   "cell_type": "code",
   "execution_count": 15,
   "id": "d8479122",
   "metadata": {},
   "outputs": [],
   "source": [
    "import pandas as pd\n",
    "import numpy as np\n",
    "import matplotlib.pyplot as plt\n",
    "import seaborn as sns\n",
    "import warnings\n",
    "warnings.filterwarnings(\"ignore\")"
   ]
  },
  {
   "cell_type": "markdown",
   "id": "77c9a474",
   "metadata": {},
   "source": [
    "#### Read the Dataset"
   ]
  },
  {
   "cell_type": "code",
   "execution_count": 16,
   "id": "27a1f2bc",
   "metadata": {},
   "outputs": [],
   "source": [
    "df=pd.read_csv(r\"C:\\Users\\hp\\Downloads\\TATASTEEL.NS.csv\")"
   ]
  },
  {
   "cell_type": "code",
   "execution_count": 17,
   "id": "dbc9e3eb",
   "metadata": {},
   "outputs": [
    {
     "data": {
      "text/html": [
       "<div>\n",
       "<style scoped>\n",
       "    .dataframe tbody tr th:only-of-type {\n",
       "        vertical-align: middle;\n",
       "    }\n",
       "\n",
       "    .dataframe tbody tr th {\n",
       "        vertical-align: top;\n",
       "    }\n",
       "\n",
       "    .dataframe thead th {\n",
       "        text-align: right;\n",
       "    }\n",
       "</style>\n",
       "<table border=\"1\" class=\"dataframe\">\n",
       "  <thead>\n",
       "    <tr style=\"text-align: right;\">\n",
       "      <th></th>\n",
       "      <th>Date</th>\n",
       "      <th>Open</th>\n",
       "      <th>High</th>\n",
       "      <th>Low</th>\n",
       "      <th>Close</th>\n",
       "      <th>Adj Close</th>\n",
       "      <th>Volume</th>\n",
       "    </tr>\n",
       "  </thead>\n",
       "  <tbody>\n",
       "    <tr>\n",
       "      <th>0</th>\n",
       "      <td>1996-01-01</td>\n",
       "      <td>11.172855</td>\n",
       "      <td>11.214964</td>\n",
       "      <td>11.035300</td>\n",
       "      <td>11.186892</td>\n",
       "      <td>2.568284</td>\n",
       "      <td>10242229.0</td>\n",
       "    </tr>\n",
       "    <tr>\n",
       "      <th>1</th>\n",
       "      <td>1996-01-02</td>\n",
       "      <td>11.172855</td>\n",
       "      <td>11.214964</td>\n",
       "      <td>10.951082</td>\n",
       "      <td>10.979155</td>\n",
       "      <td>2.520592</td>\n",
       "      <td>16954313.0</td>\n",
       "    </tr>\n",
       "    <tr>\n",
       "      <th>2</th>\n",
       "      <td>1996-01-03</td>\n",
       "      <td>10.979155</td>\n",
       "      <td>11.229000</td>\n",
       "      <td>10.951082</td>\n",
       "      <td>10.981962</td>\n",
       "      <td>2.521237</td>\n",
       "      <td>13514114.0</td>\n",
       "    </tr>\n",
       "    <tr>\n",
       "      <th>3</th>\n",
       "      <td>1996-01-04</td>\n",
       "      <td>10.807913</td>\n",
       "      <td>10.807913</td>\n",
       "      <td>10.386825</td>\n",
       "      <td>10.633863</td>\n",
       "      <td>2.441320</td>\n",
       "      <td>34785820.0</td>\n",
       "    </tr>\n",
       "    <tr>\n",
       "      <th>4</th>\n",
       "      <td>1996-01-05</td>\n",
       "      <td>10.504730</td>\n",
       "      <td>10.555260</td>\n",
       "      <td>10.316644</td>\n",
       "      <td>10.423319</td>\n",
       "      <td>2.392984</td>\n",
       "      <td>30138033.0</td>\n",
       "    </tr>\n",
       "    <tr>\n",
       "      <th>...</th>\n",
       "      <td>...</td>\n",
       "      <td>...</td>\n",
       "      <td>...</td>\n",
       "      <td>...</td>\n",
       "      <td>...</td>\n",
       "      <td>...</td>\n",
       "      <td>...</td>\n",
       "    </tr>\n",
       "    <tr>\n",
       "      <th>6883</th>\n",
       "      <td>2023-05-08</td>\n",
       "      <td>109.250000</td>\n",
       "      <td>109.849998</td>\n",
       "      <td>108.250000</td>\n",
       "      <td>109.550003</td>\n",
       "      <td>109.550003</td>\n",
       "      <td>23130472.0</td>\n",
       "    </tr>\n",
       "    <tr>\n",
       "      <th>6884</th>\n",
       "      <td>2023-05-09</td>\n",
       "      <td>109.599998</td>\n",
       "      <td>111.199997</td>\n",
       "      <td>109.150002</td>\n",
       "      <td>109.550003</td>\n",
       "      <td>109.550003</td>\n",
       "      <td>27999202.0</td>\n",
       "    </tr>\n",
       "    <tr>\n",
       "      <th>6885</th>\n",
       "      <td>2023-05-10</td>\n",
       "      <td>109.599998</td>\n",
       "      <td>110.000000</td>\n",
       "      <td>108.599998</td>\n",
       "      <td>109.250000</td>\n",
       "      <td>109.250000</td>\n",
       "      <td>19213215.0</td>\n",
       "    </tr>\n",
       "    <tr>\n",
       "      <th>6886</th>\n",
       "      <td>2023-05-11</td>\n",
       "      <td>109.199997</td>\n",
       "      <td>109.500000</td>\n",
       "      <td>108.250000</td>\n",
       "      <td>108.550003</td>\n",
       "      <td>108.550003</td>\n",
       "      <td>19817637.0</td>\n",
       "    </tr>\n",
       "    <tr>\n",
       "      <th>6887</th>\n",
       "      <td>2023-05-12</td>\n",
       "      <td>108.349998</td>\n",
       "      <td>108.400002</td>\n",
       "      <td>106.550003</td>\n",
       "      <td>106.750000</td>\n",
       "      <td>106.750000</td>\n",
       "      <td>36794838.0</td>\n",
       "    </tr>\n",
       "  </tbody>\n",
       "</table>\n",
       "<p>6888 rows × 7 columns</p>\n",
       "</div>"
      ],
      "text/plain": [
       "            Date        Open        High         Low       Close   Adj Close   \n",
       "0     1996-01-01   11.172855   11.214964   11.035300   11.186892    2.568284  \\\n",
       "1     1996-01-02   11.172855   11.214964   10.951082   10.979155    2.520592   \n",
       "2     1996-01-03   10.979155   11.229000   10.951082   10.981962    2.521237   \n",
       "3     1996-01-04   10.807913   10.807913   10.386825   10.633863    2.441320   \n",
       "4     1996-01-05   10.504730   10.555260   10.316644   10.423319    2.392984   \n",
       "...          ...         ...         ...         ...         ...         ...   \n",
       "6883  2023-05-08  109.250000  109.849998  108.250000  109.550003  109.550003   \n",
       "6884  2023-05-09  109.599998  111.199997  109.150002  109.550003  109.550003   \n",
       "6885  2023-05-10  109.599998  110.000000  108.599998  109.250000  109.250000   \n",
       "6886  2023-05-11  109.199997  109.500000  108.250000  108.550003  108.550003   \n",
       "6887  2023-05-12  108.349998  108.400002  106.550003  106.750000  106.750000   \n",
       "\n",
       "          Volume  \n",
       "0     10242229.0  \n",
       "1     16954313.0  \n",
       "2     13514114.0  \n",
       "3     34785820.0  \n",
       "4     30138033.0  \n",
       "...          ...  \n",
       "6883  23130472.0  \n",
       "6884  27999202.0  \n",
       "6885  19213215.0  \n",
       "6886  19817637.0  \n",
       "6887  36794838.0  \n",
       "\n",
       "[6888 rows x 7 columns]"
      ]
     },
     "execution_count": 17,
     "metadata": {},
     "output_type": "execute_result"
    }
   ],
   "source": [
    "df"
   ]
  },
  {
   "cell_type": "markdown",
   "id": "f43db22a",
   "metadata": {},
   "source": [
    "#### Data Exploration"
   ]
  },
  {
   "cell_type": "code",
   "execution_count": 18,
   "id": "56bdf2f9",
   "metadata": {},
   "outputs": [
    {
     "name": "stdout",
     "output_type": "stream",
     "text": [
      "<class 'pandas.core.frame.DataFrame'>\n",
      "RangeIndex: 6888 entries, 0 to 6887\n",
      "Data columns (total 7 columns):\n",
      " #   Column     Non-Null Count  Dtype  \n",
      "---  ------     --------------  -----  \n",
      " 0   Date       6888 non-null   object \n",
      " 1   Open       6881 non-null   float64\n",
      " 2   High       6881 non-null   float64\n",
      " 3   Low        6881 non-null   float64\n",
      " 4   Close      6881 non-null   float64\n",
      " 5   Adj Close  6881 non-null   float64\n",
      " 6   Volume     6881 non-null   float64\n",
      "dtypes: float64(6), object(1)\n",
      "memory usage: 376.8+ KB\n"
     ]
    }
   ],
   "source": [
    "df.info()"
   ]
  },
  {
   "cell_type": "markdown",
   "id": "3ea0c08a",
   "metadata": {},
   "source": [
    "#### Descriptive Summary of Data"
   ]
  },
  {
   "cell_type": "code",
   "execution_count": 19,
   "id": "a159d578",
   "metadata": {},
   "outputs": [
    {
     "data": {
      "text/html": [
       "<div>\n",
       "<style scoped>\n",
       "    .dataframe tbody tr th:only-of-type {\n",
       "        vertical-align: middle;\n",
       "    }\n",
       "\n",
       "    .dataframe tbody tr th {\n",
       "        vertical-align: top;\n",
       "    }\n",
       "\n",
       "    .dataframe thead th {\n",
       "        text-align: right;\n",
       "    }\n",
       "</style>\n",
       "<table border=\"1\" class=\"dataframe\">\n",
       "  <thead>\n",
       "    <tr style=\"text-align: right;\">\n",
       "      <th></th>\n",
       "      <th>Open</th>\n",
       "      <th>High</th>\n",
       "      <th>Low</th>\n",
       "      <th>Close</th>\n",
       "      <th>Adj Close</th>\n",
       "      <th>Volume</th>\n",
       "    </tr>\n",
       "  </thead>\n",
       "  <tbody>\n",
       "    <tr>\n",
       "      <th>count</th>\n",
       "      <td>6881.000000</td>\n",
       "      <td>6881.000000</td>\n",
       "      <td>6881.000000</td>\n",
       "      <td>6881.000000</td>\n",
       "      <td>6881.000000</td>\n",
       "      <td>6.881000e+03</td>\n",
       "    </tr>\n",
       "    <tr>\n",
       "      <th>mean</th>\n",
       "      <td>37.963880</td>\n",
       "      <td>38.573717</td>\n",
       "      <td>37.272193</td>\n",
       "      <td>37.892717</td>\n",
       "      <td>15.986067</td>\n",
       "      <td>6.973299e+07</td>\n",
       "    </tr>\n",
       "    <tr>\n",
       "      <th>std</th>\n",
       "      <td>29.775267</td>\n",
       "      <td>30.186017</td>\n",
       "      <td>29.278248</td>\n",
       "      <td>29.713323</td>\n",
       "      <td>20.208478</td>\n",
       "      <td>5.827671e+07</td>\n",
       "    </tr>\n",
       "    <tr>\n",
       "      <th>min</th>\n",
       "      <td>3.705570</td>\n",
       "      <td>3.910499</td>\n",
       "      <td>3.705570</td>\n",
       "      <td>3.775751</td>\n",
       "      <td>0.902283</td>\n",
       "      <td>0.000000e+00</td>\n",
       "    </tr>\n",
       "    <tr>\n",
       "      <th>25%</th>\n",
       "      <td>10.580525</td>\n",
       "      <td>10.723695</td>\n",
       "      <td>10.389632</td>\n",
       "      <td>10.529995</td>\n",
       "      <td>2.436164</td>\n",
       "      <td>3.286130e+07</td>\n",
       "    </tr>\n",
       "    <tr>\n",
       "      <th>50%</th>\n",
       "      <td>34.679611</td>\n",
       "      <td>35.156597</td>\n",
       "      <td>34.031754</td>\n",
       "      <td>34.609184</td>\n",
       "      <td>12.329805</td>\n",
       "      <td>5.377344e+07</td>\n",
       "    </tr>\n",
       "    <tr>\n",
       "      <th>75%</th>\n",
       "      <td>51.076210</td>\n",
       "      <td>51.860001</td>\n",
       "      <td>50.237804</td>\n",
       "      <td>51.020000</td>\n",
       "      <td>18.855690</td>\n",
       "      <td>8.750249e+07</td>\n",
       "    </tr>\n",
       "    <tr>\n",
       "      <th>max</th>\n",
       "      <td>161.486557</td>\n",
       "      <td>161.486557</td>\n",
       "      <td>161.486557</td>\n",
       "      <td>161.486557</td>\n",
       "      <td>123.550003</td>\n",
       "      <td>6.428460e+08</td>\n",
       "    </tr>\n",
       "  </tbody>\n",
       "</table>\n",
       "</div>"
      ],
      "text/plain": [
       "              Open         High          Low        Close    Adj Close   \n",
       "count  6881.000000  6881.000000  6881.000000  6881.000000  6881.000000  \\\n",
       "mean     37.963880    38.573717    37.272193    37.892717    15.986067   \n",
       "std      29.775267    30.186017    29.278248    29.713323    20.208478   \n",
       "min       3.705570     3.910499     3.705570     3.775751     0.902283   \n",
       "25%      10.580525    10.723695    10.389632    10.529995     2.436164   \n",
       "50%      34.679611    35.156597    34.031754    34.609184    12.329805   \n",
       "75%      51.076210    51.860001    50.237804    51.020000    18.855690   \n",
       "max     161.486557   161.486557   161.486557   161.486557   123.550003   \n",
       "\n",
       "             Volume  \n",
       "count  6.881000e+03  \n",
       "mean   6.973299e+07  \n",
       "std    5.827671e+07  \n",
       "min    0.000000e+00  \n",
       "25%    3.286130e+07  \n",
       "50%    5.377344e+07  \n",
       "75%    8.750249e+07  \n",
       "max    6.428460e+08  "
      ]
     },
     "execution_count": 19,
     "metadata": {},
     "output_type": "execute_result"
    }
   ],
   "source": [
    "df.describe()"
   ]
  },
  {
   "cell_type": "markdown",
   "id": "dab5e1f3",
   "metadata": {},
   "source": [
    "#### Check if there were any null values"
   ]
  },
  {
   "cell_type": "code",
   "execution_count": 20,
   "id": "23aaebb4",
   "metadata": {},
   "outputs": [
    {
     "data": {
      "text/plain": [
       "Date         0\n",
       "Open         7\n",
       "High         7\n",
       "Low          7\n",
       "Close        7\n",
       "Adj Close    7\n",
       "Volume       7\n",
       "dtype: int64"
      ]
     },
     "execution_count": 20,
     "metadata": {},
     "output_type": "execute_result"
    }
   ],
   "source": [
    "df.isnull().sum()"
   ]
  },
  {
   "cell_type": "code",
   "execution_count": 21,
   "id": "c0f40f59",
   "metadata": {},
   "outputs": [],
   "source": [
    "df.dropna(inplace=True)"
   ]
  },
  {
   "cell_type": "code",
   "execution_count": 22,
   "id": "d88e2785",
   "metadata": {},
   "outputs": [
    {
     "data": {
      "text/plain": [
       "Date         0\n",
       "Open         0\n",
       "High         0\n",
       "Low          0\n",
       "Close        0\n",
       "Adj Close    0\n",
       "Volume       0\n",
       "dtype: int64"
      ]
     },
     "execution_count": 22,
     "metadata": {},
     "output_type": "execute_result"
    }
   ],
   "source": [
    "df.isnull().sum()"
   ]
  },
  {
   "cell_type": "markdown",
   "id": "7c5eaa99",
   "metadata": {},
   "source": [
    "#### Check if there were any duplicate values"
   ]
  },
  {
   "cell_type": "code",
   "execution_count": 23,
   "id": "5b6f665e",
   "metadata": {},
   "outputs": [
    {
     "data": {
      "text/plain": [
       "0"
      ]
     },
     "execution_count": 23,
     "metadata": {},
     "output_type": "execute_result"
    }
   ],
   "source": [
    "df.duplicated().sum()"
   ]
  },
  {
   "cell_type": "markdown",
   "id": "6f4a92c0",
   "metadata": {},
   "source": [
    "#### Feature Engineering"
   ]
  },
  {
   "cell_type": "code",
   "execution_count": 25,
   "id": "bc514cc6",
   "metadata": {},
   "outputs": [
    {
     "data": {
      "text/html": [
       "<div>\n",
       "<style scoped>\n",
       "    .dataframe tbody tr th:only-of-type {\n",
       "        vertical-align: middle;\n",
       "    }\n",
       "\n",
       "    .dataframe tbody tr th {\n",
       "        vertical-align: top;\n",
       "    }\n",
       "\n",
       "    .dataframe thead th {\n",
       "        text-align: right;\n",
       "    }\n",
       "</style>\n",
       "<table border=\"1\" class=\"dataframe\">\n",
       "  <thead>\n",
       "    <tr style=\"text-align: right;\">\n",
       "      <th></th>\n",
       "      <th>Date</th>\n",
       "      <th>Open</th>\n",
       "      <th>High</th>\n",
       "      <th>Low</th>\n",
       "      <th>Close</th>\n",
       "      <th>Adj Close</th>\n",
       "      <th>Volume</th>\n",
       "    </tr>\n",
       "  </thead>\n",
       "  <tbody>\n",
       "    <tr>\n",
       "      <th>0</th>\n",
       "      <td>1996-01-01</td>\n",
       "      <td>11.172855</td>\n",
       "      <td>11.214964</td>\n",
       "      <td>11.035300</td>\n",
       "      <td>11.186892</td>\n",
       "      <td>2.568284</td>\n",
       "      <td>10242229.0</td>\n",
       "    </tr>\n",
       "    <tr>\n",
       "      <th>1</th>\n",
       "      <td>1996-01-02</td>\n",
       "      <td>11.172855</td>\n",
       "      <td>11.214964</td>\n",
       "      <td>10.951082</td>\n",
       "      <td>10.979155</td>\n",
       "      <td>2.520592</td>\n",
       "      <td>16954313.0</td>\n",
       "    </tr>\n",
       "    <tr>\n",
       "      <th>2</th>\n",
       "      <td>1996-01-03</td>\n",
       "      <td>10.979155</td>\n",
       "      <td>11.229000</td>\n",
       "      <td>10.951082</td>\n",
       "      <td>10.981962</td>\n",
       "      <td>2.521237</td>\n",
       "      <td>13514114.0</td>\n",
       "    </tr>\n",
       "    <tr>\n",
       "      <th>3</th>\n",
       "      <td>1996-01-04</td>\n",
       "      <td>10.807913</td>\n",
       "      <td>10.807913</td>\n",
       "      <td>10.386825</td>\n",
       "      <td>10.633863</td>\n",
       "      <td>2.441320</td>\n",
       "      <td>34785820.0</td>\n",
       "    </tr>\n",
       "    <tr>\n",
       "      <th>4</th>\n",
       "      <td>1996-01-05</td>\n",
       "      <td>10.504730</td>\n",
       "      <td>10.555260</td>\n",
       "      <td>10.316644</td>\n",
       "      <td>10.423319</td>\n",
       "      <td>2.392984</td>\n",
       "      <td>30138033.0</td>\n",
       "    </tr>\n",
       "  </tbody>\n",
       "</table>\n",
       "</div>"
      ],
      "text/plain": [
       "         Date       Open       High        Low      Close  Adj Close   \n",
       "0  1996-01-01  11.172855  11.214964  11.035300  11.186892   2.568284  \\\n",
       "1  1996-01-02  11.172855  11.214964  10.951082  10.979155   2.520592   \n",
       "2  1996-01-03  10.979155  11.229000  10.951082  10.981962   2.521237   \n",
       "3  1996-01-04  10.807913  10.807913  10.386825  10.633863   2.441320   \n",
       "4  1996-01-05  10.504730  10.555260  10.316644  10.423319   2.392984   \n",
       "\n",
       "       Volume  \n",
       "0  10242229.0  \n",
       "1  16954313.0  \n",
       "2  13514114.0  \n",
       "3  34785820.0  \n",
       "4  30138033.0  "
      ]
     },
     "execution_count": 25,
     "metadata": {},
     "output_type": "execute_result"
    }
   ],
   "source": [
    "df.head()"
   ]
  },
  {
   "cell_type": "markdown",
   "id": "205f80c3",
   "metadata": {},
   "source": [
    "#### Split Date into Year, Month and Date"
   ]
  },
  {
   "cell_type": "code",
   "execution_count": 26,
   "id": "6d58af10",
   "metadata": {},
   "outputs": [],
   "source": [
    "df[\"Year\"]=df[\"Date\"].str[0:4]"
   ]
  },
  {
   "cell_type": "code",
   "execution_count": 27,
   "id": "b6089e60",
   "metadata": {},
   "outputs": [],
   "source": [
    "df[\"date\"]=df[\"Date\"].str[8:10]"
   ]
  },
  {
   "cell_type": "code",
   "execution_count": 28,
   "id": "84bbdfe0",
   "metadata": {},
   "outputs": [],
   "source": [
    "df[\"month_num\"]=df[\"Date\"].str[5:7]"
   ]
  },
  {
   "cell_type": "code",
   "execution_count": 29,
   "id": "805c58d5",
   "metadata": {},
   "outputs": [],
   "source": [
    "def month_name(num):\n",
    "    if num == \"01\":\n",
    "        return \"January\"\n",
    "    elif num == \"02\":\n",
    "        return \"February\"\n",
    "    elif num == \"03\":\n",
    "        return \"March\"\n",
    "    elif num == \"04\":\n",
    "        return \"April\"\n",
    "    elif num == \"05\":\n",
    "        return \"May\"\n",
    "    elif num == \"06\":\n",
    "        return \"June\"\n",
    "    elif num == \"07\":\n",
    "        return \"July\"\n",
    "    elif num == \"08\":\n",
    "        return \"August\"\n",
    "    elif num == \"09\":\n",
    "        return \"September\"\n",
    "    elif num == \"10\":\n",
    "        return \"October\"\n",
    "    elif num == \"11\":\n",
    "        return \"November\"\n",
    "    elif num == \"12\":\n",
    "        return \"December\"\n",
    "    else:\n",
    "        return \"Invalid Month\""
   ]
  },
  {
   "cell_type": "code",
   "execution_count": 30,
   "id": "100ee09b",
   "metadata": {},
   "outputs": [],
   "source": [
    "df['month_name']=df['Date'].str[5:7].apply(month_name)"
   ]
  },
  {
   "cell_type": "code",
   "execution_count": 31,
   "id": "e82359e6",
   "metadata": {},
   "outputs": [],
   "source": [
    "df[\"Year\"]=df[\"Year\"].astype(int)\n",
    "df[\"date\"]=df[\"date\"].astype(int)\n",
    "df[\"month_num\"]=df[\"month_num\"].astype(int)"
   ]
  },
  {
   "cell_type": "code",
   "execution_count": 32,
   "id": "b1feefab",
   "metadata": {},
   "outputs": [],
   "source": [
    "df['Date'] = pd.to_datetime(df['Date'])"
   ]
  },
  {
   "cell_type": "markdown",
   "id": "07332381",
   "metadata": {},
   "source": [
    "#### EDA                  Opening vs Closing"
   ]
  },
  {
   "cell_type": "code",
   "execution_count": 35,
   "id": "4c2abb3b",
   "metadata": {},
   "outputs": [
    {
     "data": {
      "text/plain": [
       "<matplotlib.legend.Legend at 0x159b93d5a60>"
      ]
     },
     "execution_count": 35,
     "metadata": {},
     "output_type": "execute_result"
    },
    {
     "data": {
      "image/png": "[encoded data removed]",
      "text/plain": [
       "<Figure size 1000x600 with 1 Axes>"
      ]
     },
     "metadata": {},
     "output_type": "display_data"
    }
   ],
   "source": [
    "plt.figure(figsize=(10,6))\n",
    "sns.lineplot(x=df[\"Date\"],y=df[\"Open\"],c=\"g\", label=\"Open\")\n",
    "sns.lineplot(x=df[\"Date\"],y=df[\"Close\"],c=\"r\", label=\"Close\")\n",
    "plt.ylabel(\"Prices\")\n",
    "plt.title(\"Open vs Close Comparision\")\n",
    "plt.legend()"
   ]
  },
  {
   "cell_type": "markdown",
   "id": "0447bdbd",
   "metadata": {},
   "source": [
    "#### Observations:\n",
    "• Opening prices were mostly higher than closing"
   ]
  },
  {
   "cell_type": "markdown",
   "id": "454dd90d",
   "metadata": {},
   "source": [
    "#### Prices by date"
   ]
  },
  {
   "cell_type": "code",
   "execution_count": 36,
   "id": "229252ca",
   "metadata": {},
   "outputs": [],
   "source": [
    "sorted_df=df.sort_values(by=\"date\")"
   ]
  },
  {
   "cell_type": "code",
   "execution_count": 37,
   "id": "1b4f758e",
   "metadata": {},
   "outputs": [
    {
     "data": {
      "text/html": [
       "<div>\n",
       "<style scoped>\n",
       "    .dataframe tbody tr th:only-of-type {\n",
       "        vertical-align: middle;\n",
       "    }\n",
       "\n",
       "    .dataframe tbody tr th {\n",
       "        vertical-align: top;\n",
       "    }\n",
       "\n",
       "    .dataframe thead th {\n",
       "        text-align: right;\n",
       "    }\n",
       "</style>\n",
       "<table border=\"1\" class=\"dataframe\">\n",
       "  <thead>\n",
       "    <tr style=\"text-align: right;\">\n",
       "      <th></th>\n",
       "      <th>Date</th>\n",
       "      <th>Open</th>\n",
       "      <th>High</th>\n",
       "      <th>Low</th>\n",
       "      <th>Close</th>\n",
       "      <th>Adj Close</th>\n",
       "      <th>Volume</th>\n",
       "      <th>Year</th>\n",
       "      <th>date</th>\n",
       "      <th>month_num</th>\n",
       "      <th>month_name</th>\n",
       "    </tr>\n",
       "  </thead>\n",
       "  <tbody>\n",
       "    <tr>\n",
       "      <th>0</th>\n",
       "      <td>1996-01-01</td>\n",
       "      <td>11.172855</td>\n",
       "      <td>11.214964</td>\n",
       "      <td>11.035300</td>\n",
       "      <td>11.186892</td>\n",
       "      <td>2.568284</td>\n",
       "      <td>10242229.0</td>\n",
       "      <td>1996</td>\n",
       "      <td>1</td>\n",
       "      <td>1</td>\n",
       "      <td>January</td>\n",
       "    </tr>\n",
       "    <tr>\n",
       "      <th>2088</th>\n",
       "      <td>2004-01-01</td>\n",
       "      <td>25.001369</td>\n",
       "      <td>25.287708</td>\n",
       "      <td>24.964874</td>\n",
       "      <td>25.043478</td>\n",
       "      <td>6.989944</td>\n",
       "      <td>87720984.0</td>\n",
       "      <td>2004</td>\n",
       "      <td>1</td>\n",
       "      <td>1</td>\n",
       "      <td>January</td>\n",
       "    </tr>\n",
       "    <tr>\n",
       "      <th>5010</th>\n",
       "      <td>2015-10-01</td>\n",
       "      <td>20.483837</td>\n",
       "      <td>20.531473</td>\n",
       "      <td>20.031286</td>\n",
       "      <td>20.221834</td>\n",
       "      <td>7.884157</td>\n",
       "      <td>51146998.0</td>\n",
       "      <td>2015</td>\n",
       "      <td>1</td>\n",
       "      <td>10</td>\n",
       "      <td>October</td>\n",
       "    </tr>\n",
       "    <tr>\n",
       "      <th>2065</th>\n",
       "      <td>2003-12-01</td>\n",
       "      <td>20.436781</td>\n",
       "      <td>20.829796</td>\n",
       "      <td>20.425552</td>\n",
       "      <td>20.754000</td>\n",
       "      <td>5.792698</td>\n",
       "      <td>116010180.0</td>\n",
       "      <td>2003</td>\n",
       "      <td>1</td>\n",
       "      <td>12</td>\n",
       "      <td>December</td>\n",
       "    </tr>\n",
       "    <tr>\n",
       "      <th>5048</th>\n",
       "      <td>2015-12-01</td>\n",
       "      <td>21.989161</td>\n",
       "      <td>22.722769</td>\n",
       "      <td>21.941525</td>\n",
       "      <td>22.632257</td>\n",
       "      <td>8.823941</td>\n",
       "      <td>69133459.0</td>\n",
       "      <td>2015</td>\n",
       "      <td>1</td>\n",
       "      <td>12</td>\n",
       "      <td>December</td>\n",
       "    </tr>\n",
       "    <tr>\n",
       "      <th>...</th>\n",
       "      <td>...</td>\n",
       "      <td>...</td>\n",
       "      <td>...</td>\n",
       "      <td>...</td>\n",
       "      <td>...</td>\n",
       "      <td>...</td>\n",
       "      <td>...</td>\n",
       "      <td>...</td>\n",
       "      <td>...</td>\n",
       "      <td>...</td>\n",
       "      <td>...</td>\n",
       "    </tr>\n",
       "    <tr>\n",
       "      <th>1218</th>\n",
       "      <td>2000-08-31</td>\n",
       "      <td>6.175950</td>\n",
       "      <td>6.201215</td>\n",
       "      <td>6.091732</td>\n",
       "      <td>6.119805</td>\n",
       "      <td>1.510646</td>\n",
       "      <td>8468429.0</td>\n",
       "      <td>2000</td>\n",
       "      <td>31</td>\n",
       "      <td>8</td>\n",
       "      <td>August</td>\n",
       "    </tr>\n",
       "    <tr>\n",
       "      <th>1890</th>\n",
       "      <td>2003-03-31</td>\n",
       "      <td>7.627298</td>\n",
       "      <td>7.627298</td>\n",
       "      <td>7.411140</td>\n",
       "      <td>7.506587</td>\n",
       "      <td>1.991843</td>\n",
       "      <td>50606800.0</td>\n",
       "      <td>2003</td>\n",
       "      <td>31</td>\n",
       "      <td>3</td>\n",
       "      <td>March</td>\n",
       "    </tr>\n",
       "    <tr>\n",
       "      <th>6652</th>\n",
       "      <td>2022-05-31</td>\n",
       "      <td>104.500000</td>\n",
       "      <td>107.190002</td>\n",
       "      <td>103.699997</td>\n",
       "      <td>105.565002</td>\n",
       "      <td>46.925224</td>\n",
       "      <td>121248850.0</td>\n",
       "      <td>2022</td>\n",
       "      <td>31</td>\n",
       "      <td>5</td>\n",
       "      <td>May</td>\n",
       "    </tr>\n",
       "    <tr>\n",
       "      <th>2619</th>\n",
       "      <td>2006-01-31</td>\n",
       "      <td>33.240650</td>\n",
       "      <td>34.318634</td>\n",
       "      <td>33.240650</td>\n",
       "      <td>34.061771</td>\n",
       "      <td>10.204928</td>\n",
       "      <td>81755995.0</td>\n",
       "      <td>2006</td>\n",
       "      <td>31</td>\n",
       "      <td>1</td>\n",
       "      <td>January</td>\n",
       "    </tr>\n",
       "    <tr>\n",
       "      <th>1826</th>\n",
       "      <td>2002-12-31</td>\n",
       "      <td>8.365605</td>\n",
       "      <td>8.534040</td>\n",
       "      <td>8.351569</td>\n",
       "      <td>8.508775</td>\n",
       "      <td>2.257770</td>\n",
       "      <td>69603504.0</td>\n",
       "      <td>2002</td>\n",
       "      <td>31</td>\n",
       "      <td>12</td>\n",
       "      <td>December</td>\n",
       "    </tr>\n",
       "  </tbody>\n",
       "</table>\n",
       "<p>6881 rows × 11 columns</p>\n",
       "</div>"
      ],
      "text/plain": [
       "           Date        Open        High         Low       Close  Adj Close   \n",
       "0    1996-01-01   11.172855   11.214964   11.035300   11.186892   2.568284  \\\n",
       "2088 2004-01-01   25.001369   25.287708   24.964874   25.043478   6.989944   \n",
       "5010 2015-10-01   20.483837   20.531473   20.031286   20.221834   7.884157   \n",
       "2065 2003-12-01   20.436781   20.829796   20.425552   20.754000   5.792698   \n",
       "5048 2015-12-01   21.989161   22.722769   21.941525   22.632257   8.823941   \n",
       "...         ...         ...         ...         ...         ...        ...   \n",
       "1218 2000-08-31    6.175950    6.201215    6.091732    6.119805   1.510646   \n",
       "1890 2003-03-31    7.627298    7.627298    7.411140    7.506587   1.991843   \n",
       "6652 2022-05-31  104.500000  107.190002  103.699997  105.565002  46.925224   \n",
       "2619 2006-01-31   33.240650   34.318634   33.240650   34.061771  10.204928   \n",
       "1826 2002-12-31    8.365605    8.534040    8.351569    8.508775   2.257770   \n",
       "\n",
       "           Volume  Year  date  month_num month_name  \n",
       "0      10242229.0  1996     1          1    January  \n",
       "2088   87720984.0  2004     1          1    January  \n",
       "5010   51146998.0  2015     1         10    October  \n",
       "2065  116010180.0  2003     1         12   December  \n",
       "5048   69133459.0  2015     1         12   December  \n",
       "...           ...   ...   ...        ...        ...  \n",
       "1218    8468429.0  2000    31          8     August  \n",
       "1890   50606800.0  2003    31          3      March  \n",
       "6652  121248850.0  2022    31          5        May  \n",
       "2619   81755995.0  2006    31          1    January  \n",
       "1826   69603504.0  2002    31         12   December  \n",
       "\n",
       "[6881 rows x 11 columns]"
      ]
     },
     "execution_count": 37,
     "metadata": {},
     "output_type": "execute_result"
    }
   ],
   "source": [
    "sorted_df"
   ]
  },
  {
   "cell_type": "code",
   "execution_count": 38,
   "id": "35adc736",
   "metadata": {},
   "outputs": [
    {
     "data": {
      "text/plain": [
       "Text(0.5, 1.0, 'Open Prices by Dates')"
      ]
     },
     "execution_count": 38,
     "metadata": {},
     "output_type": "execute_result"
    },
    {
     "data": {
      "image/png": "[encoded data removed]",
      "text/plain": [
       "<Figure size 1300x600 with 1 Axes>"
      ]
     },
     "metadata": {},
     "output_type": "display_data"
    }
   ],
   "source": [
    "plt.figure(figsize=(13,6))\n",
    "sns.barplot(x=sorted_df['date'],y=sorted_df[\"Open\"])\n",
    "plt.title(\"Open Prices by Dates\")"
   ]
  },
  {
   "cell_type": "markdown",
   "id": "91ceb435",
   "metadata": {},
   "source": [
    "#### Open Prices by month"
   ]
  },
  {
   "cell_type": "code",
   "execution_count": 39,
   "id": "aa3d4cce",
   "metadata": {},
   "outputs": [],
   "source": [
    "sorted_df=df.sort_values(by=\"month_num\")"
   ]
  },
  {
   "cell_type": "code",
   "execution_count": 40,
   "id": "183ad5f1",
   "metadata": {},
   "outputs": [
    {
     "data": {
      "text/plain": [
       "Text(0.5, 1.0, 'Open Prices by Months')"
      ]
     },
     "execution_count": 40,
     "metadata": {},
     "output_type": "execute_result"
    },
    {
     "data": {
      "image/png": "[encoded data removed]",
      "text/plain": [
       "<Figure size 1300x600 with 1 Axes>"
      ]
     },
     "metadata": {},
     "output_type": "display_data"
    }
   ],
   "source": [
    "plt.figure(figsize=(13,6))\n",
    "sns.barplot(x=sorted_df['month_num'],y=sorted_df[\"Open\"])\n",
    "plt.title(\"Open Prices by Months\")"
   ]
  },
  {
   "cell_type": "markdown",
   "id": "d49438cf",
   "metadata": {},
   "source": [
    "#### Coreleation of features"
   ]
  },
  {
   "cell_type": "code",
   "execution_count": 41,
   "id": "fd8d24ef",
   "metadata": {},
   "outputs": [
    {
     "data": {
      "text/plain": [
       "<AxesSubplot:>"
      ]
     },
     "execution_count": 41,
     "metadata": {},
     "output_type": "execute_result"
    },
    {
     "data": {
      "image/png": "[encoded data removed]",
      "text/plain": [
       "<Figure size 640x480 with 2 Axes>"
      ]
     },
     "metadata": {},
     "output_type": "display_data"
    }
   ],
   "source": [
    "numeric_cols = df.select_dtypes(include=['float64', 'int64']).columns\n",
    "df_numeric = df[numeric_cols]\n",
    "sns.heatmap(df_numeric.corr(), annot=True)"
   ]
  },
  {
   "cell_type": "markdown",
   "id": "5d315826",
   "metadata": {},
   "source": [
    "#### Observations:\n",
    "• High, Low, Close were very similar to Open. so we can drop them\n",
    "\n",
    "• As it will be difficult to predict Adj close and also Volume by the user, its better to remove\n",
    "those also\n",
    "\n",
    "• As we cant use DateTime directly in ML training, remove Date also"
   ]
  },
  {
   "cell_type": "code",
   "execution_count": 42,
   "id": "095c7dcb",
   "metadata": {},
   "outputs": [],
   "source": [
    "df.drop([\"High\",\"Low\",\"Close\",\"Adj Close\",\"Volume\",\"Date\"],axis=1,inplace=True)"
   ]
  },
  {
   "cell_type": "code",
   "execution_count": 43,
   "id": "4412190c",
   "metadata": {},
   "outputs": [],
   "source": [
    "df=df.sample(frac=1)"
   ]
  },
  {
   "cell_type": "code",
   "execution_count": 44,
   "id": "d7d90cc9",
   "metadata": {},
   "outputs": [
    {
     "data": {
      "text/html": [
       "<div>\n",
       "<style scoped>\n",
       "    .dataframe tbody tr th:only-of-type {\n",
       "        vertical-align: middle;\n",
       "    }\n",
       "\n",
       "    .dataframe tbody tr th {\n",
       "        vertical-align: top;\n",
       "    }\n",
       "\n",
       "    .dataframe thead th {\n",
       "        text-align: right;\n",
       "    }\n",
       "</style>\n",
       "<table border=\"1\" class=\"dataframe\">\n",
       "  <thead>\n",
       "    <tr style=\"text-align: right;\">\n",
       "      <th></th>\n",
       "      <th>Open</th>\n",
       "      <th>Year</th>\n",
       "      <th>date</th>\n",
       "      <th>month_num</th>\n",
       "      <th>month_name</th>\n",
       "    </tr>\n",
       "  </thead>\n",
       "  <tbody>\n",
       "    <tr>\n",
       "      <th>2204</th>\n",
       "      <td>16.840693</td>\n",
       "      <td>2004</td>\n",
       "      <td>11</td>\n",
       "      <td>6</td>\n",
       "      <td>June</td>\n",
       "    </tr>\n",
       "    <tr>\n",
       "      <th>1130</th>\n",
       "      <td>6.069274</td>\n",
       "      <td>2000</td>\n",
       "      <td>1</td>\n",
       "      <td>5</td>\n",
       "      <td>May</td>\n",
       "    </tr>\n",
       "    <tr>\n",
       "      <th>1208</th>\n",
       "      <td>6.049624</td>\n",
       "      <td>2000</td>\n",
       "      <td>17</td>\n",
       "      <td>8</td>\n",
       "      <td>August</td>\n",
       "    </tr>\n",
       "    <tr>\n",
       "      <th>4072</th>\n",
       "      <td>34.803471</td>\n",
       "      <td>2011</td>\n",
       "      <td>20</td>\n",
       "      <td>12</td>\n",
       "      <td>December</td>\n",
       "    </tr>\n",
       "    <tr>\n",
       "      <th>4425</th>\n",
       "      <td>30.011204</td>\n",
       "      <td>2013</td>\n",
       "      <td>21</td>\n",
       "      <td>5</td>\n",
       "      <td>May</td>\n",
       "    </tr>\n",
       "    <tr>\n",
       "      <th>...</th>\n",
       "      <td>...</td>\n",
       "      <td>...</td>\n",
       "      <td>...</td>\n",
       "      <td>...</td>\n",
       "      <td>...</td>\n",
       "    </tr>\n",
       "    <tr>\n",
       "      <th>6491</th>\n",
       "      <td>131.399994</td>\n",
       "      <td>2021</td>\n",
       "      <td>5</td>\n",
       "      <td>10</td>\n",
       "      <td>October</td>\n",
       "    </tr>\n",
       "    <tr>\n",
       "      <th>4430</th>\n",
       "      <td>30.111240</td>\n",
       "      <td>2013</td>\n",
       "      <td>28</td>\n",
       "      <td>5</td>\n",
       "      <td>May</td>\n",
       "    </tr>\n",
       "    <tr>\n",
       "      <th>2797</th>\n",
       "      <td>43.793102</td>\n",
       "      <td>2006</td>\n",
       "      <td>18</td>\n",
       "      <td>10</td>\n",
       "      <td>October</td>\n",
       "    </tr>\n",
       "    <tr>\n",
       "      <th>2921</th>\n",
       "      <td>40.140591</td>\n",
       "      <td>2007</td>\n",
       "      <td>23</td>\n",
       "      <td>4</td>\n",
       "      <td>April</td>\n",
       "    </tr>\n",
       "    <tr>\n",
       "      <th>2470</th>\n",
       "      <td>30.570953</td>\n",
       "      <td>2005</td>\n",
       "      <td>24</td>\n",
       "      <td>6</td>\n",
       "      <td>June</td>\n",
       "    </tr>\n",
       "  </tbody>\n",
       "</table>\n",
       "<p>6881 rows × 5 columns</p>\n",
       "</div>"
      ],
      "text/plain": [
       "            Open  Year  date  month_num month_name\n",
       "2204   16.840693  2004    11          6       June\n",
       "1130    6.069274  2000     1          5        May\n",
       "1208    6.049624  2000    17          8     August\n",
       "4072   34.803471  2011    20         12   December\n",
       "4425   30.011204  2013    21          5        May\n",
       "...          ...   ...   ...        ...        ...\n",
       "6491  131.399994  2021     5         10    October\n",
       "4430   30.111240  2013    28          5        May\n",
       "2797   43.793102  2006    18         10    October\n",
       "2921   40.140591  2007    23          4      April\n",
       "2470   30.570953  2005    24          6       June\n",
       "\n",
       "[6881 rows x 5 columns]"
      ]
     },
     "execution_count": 44,
     "metadata": {},
     "output_type": "execute_result"
    }
   ],
   "source": [
    "df"
   ]
  },
  {
   "cell_type": "markdown",
   "id": "082d120d",
   "metadata": {},
   "source": [
    "#### Divide and Split data for model building"
   ]
  },
  {
   "cell_type": "code",
   "execution_count": 45,
   "id": "3cb1b201",
   "metadata": {},
   "outputs": [],
   "source": [
    "x = df.drop([\"Open\",\"month_name\"], axis=1)"
   ]
  },
  {
   "cell_type": "code",
   "execution_count": 46,
   "id": "7290b9a6",
   "metadata": {},
   "outputs": [],
   "source": [
    "y=df['Open']"
   ]
  },
  {
   "cell_type": "code",
   "execution_count": 48,
   "id": "1c10b33b",
   "metadata": {},
   "outputs": [],
   "source": [
    "from sklearn.model_selection import train_test_split"
   ]
  },
  {
   "cell_type": "code",
   "execution_count": 49,
   "id": "96583f98",
   "metadata": {},
   "outputs": [],
   "source": [
    "x_train,x_test,y_train,y_test=train_test_split(x,y,test_size= 25 , random_state=25)"
   ]
  },
  {
   "cell_type": "markdown",
   "id": "7e5b8656",
   "metadata": {},
   "source": [
    "#### Import the Models"
   ]
  },
  {
   "cell_type": "code",
   "execution_count": 50,
   "id": "2824a2cd",
   "metadata": {},
   "outputs": [],
   "source": [
    "from sklearn.ensemble import AdaBoostRegressor\n",
    "from sklearn.ensemble import GradientBoostingRegressor"
   ]
  },
  {
   "cell_type": "code",
   "execution_count": 51,
   "id": "c99c96ae",
   "metadata": {},
   "outputs": [
    {
     "name": "stdout",
     "output_type": "stream",
     "text": [
      "Year         0\n",
      "date         0\n",
      "month_num    0\n",
      "dtype: int64\n",
      "0\n"
     ]
    }
   ],
   "source": [
    "print(np.isnan(x_train).sum())\n",
    "print(np.isnan(y_train).sum())"
   ]
  },
  {
   "cell_type": "code",
   "execution_count": 52,
   "id": "3d309708",
   "metadata": {},
   "outputs": [],
   "source": [
    "x_train = pd.DataFrame(x_train).fillna(np.mean(x_train))\n",
    "y_train = pd.DataFrame(y_train).fillna(np.mean(y_train))"
   ]
  },
  {
   "cell_type": "markdown",
   "id": "5686069f",
   "metadata": {},
   "source": [
    "#### Model 1"
   ]
  },
  {
   "cell_type": "code",
   "execution_count": 53,
   "id": "1a1767f0",
   "metadata": {},
   "outputs": [],
   "source": [
    "model1 = AdaBoostRegressor()\n",
    "model1.fit(x_train, y_train)\n",
    "y_pred = model1.predict(x_test)"
   ]
  },
  {
   "cell_type": "code",
   "execution_count": 54,
   "id": "f93e449e",
   "metadata": {},
   "outputs": [],
   "source": [
    "from sklearn.metrics import r2_score"
   ]
  },
  {
   "cell_type": "code",
   "execution_count": 55,
   "id": "667bf1f1",
   "metadata": {},
   "outputs": [
    {
     "data": {
      "text/plain": [
       "0.7783016579613931"
      ]
     },
     "execution_count": 55,
     "metadata": {},
     "output_type": "execute_result"
    }
   ],
   "source": [
    "r2_score(y_test,y_pred)"
   ]
  },
  {
   "cell_type": "markdown",
   "id": "c377cde9",
   "metadata": {},
   "source": [
    "#### Model 2"
   ]
  },
  {
   "cell_type": "code",
   "execution_count": 56,
   "id": "acffb383",
   "metadata": {},
   "outputs": [
    {
     "data": {
      "text/plain": [
       "0.9775181399637517"
      ]
     },
     "execution_count": 56,
     "metadata": {},
     "output_type": "execute_result"
    }
   ],
   "source": [
    "model2=GradientBoostingRegressor()\n",
    "model2.fit(x_train,y_train)\n",
    "y_pred=model2.predict(x_test)\n",
    "r2_score(y_test,y_pred)"
   ]
  },
  {
   "cell_type": "code",
   "execution_count": 57,
   "id": "c4be04fc",
   "metadata": {},
   "outputs": [],
   "source": [
    "from sklearn.metrics import mean_absolute_error,mean_absolute_percentage_error"
   ]
  },
  {
   "cell_type": "code",
   "execution_count": 58,
   "id": "9b1be49b",
   "metadata": {},
   "outputs": [
    {
     "data": {
      "text/plain": [
       "3.0289872307502264"
      ]
     },
     "execution_count": 58,
     "metadata": {},
     "output_type": "execute_result"
    }
   ],
   "source": [
    "mean_absolute_error(y_test,y_pred)"
   ]
  },
  {
   "cell_type": "code",
   "execution_count": 60,
   "id": "102d931d",
   "metadata": {},
   "outputs": [
    {
     "data": {
      "text/plain": [
       "0.1040329799168452"
      ]
     },
     "execution_count": 60,
     "metadata": {},
     "output_type": "execute_result"
    }
   ],
   "source": [
    "mean_absolute_percentage_error(y_test,y_pred)"
   ]
  },
  {
   "cell_type": "code",
   "execution_count": null,
   "id": "f9a25f92",
   "metadata": {},
   "outputs": [],
   "source": []
  }
 ],
 "metadata": {
  "kernelspec": {
   "display_name": "Python 3 (ipykernel)",
   "language": "python",
   "name": "python3"
  },
  "language_info": {
   "codemirror_mode": {
    "name": "ipython",
    "version": 3
   },
   "file_extension": ".py",
   "mimetype": "text/x-python",
   "name": "python",
   "nbconvert_exporter": "python",
   "pygments_lexer": "ipython3",
   "version": "3.9.13"
  }
 },
 "nbformat": 4,
 "nbformat_minor": 5
}
